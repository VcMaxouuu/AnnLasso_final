{
 "cells": [
  {
   "cell_type": "code",
   "execution_count": 1,
   "metadata": {},
   "outputs": [],
   "source": [
    "import numpy as np\n",
    "import pandas as pd\n",
    "import torch\n",
    "import matplotlib.pyplot as plt\n",
    "\n",
    "from models import AnnLassoRegression, LinearModel\n",
    "import utils\n",
    "\n",
    "import warnings\n",
    "warnings.filterwarnings(\"ignore\")"
   ]
  },
  {
   "cell_type": "code",
   "execution_count": 2,
   "metadata": {},
   "outputs": [],
   "source": [
    "def recoveries_analysis(pred_features, true_features):\n",
    "    TP = len(set(pred_features) & set(true_features))\n",
    "    FP = len(set(pred_features) - set(true_features))\n",
    "\n",
    "    TPR = TP / len(true_features) if len(true_features) > 0 else 0\n",
    "    FDR = FP / (TP + FP) if (TP + FP) > 0 else 0\n",
    "    \n",
    "    exact_recovery = (set(pred_features) == set(true_features))\n",
    "\n",
    "    return exact_recovery"
   ]
  },
  {
   "cell_type": "code",
   "execution_count": 3,
   "metadata": {},
   "outputs": [
    {
     "name": "stdout",
     "output_type": "stream",
     "text": [
      "0 1.0 1.0 1.0 1.0\n",
      "1 1.0 0.0 1.0 1.0\n",
      "2 1.0 0.0 1.0 1.0\n"
     ]
    },
    {
     "ename": "KeyboardInterrupt",
     "evalue": "",
     "output_type": "error",
     "traceback": [
      "\u001b[1;31m---------------------------------------------------------------------------\u001b[0m",
      "\u001b[1;31mKeyboardInterrupt\u001b[0m                         Traceback (most recent call last)",
      "Cell \u001b[1;32mIn[3], line 47\u001b[0m\n\u001b[0;32m     45\u001b[0m \u001b[38;5;28;01mif\u001b[39;00m cont_net_new:\n\u001b[0;32m     46\u001b[0m     model_network_new \u001b[38;5;241m=\u001b[39m AnnLassoRegression(path_type\u001b[38;5;241m=\u001b[39m\u001b[38;5;241m1\u001b[39m, lambda_qut\u001b[38;5;241m=\u001b[39mlambda_qut)\n\u001b[1;32m---> 47\u001b[0m     \u001b[43mmodel_network_new\u001b[49m\u001b[38;5;241;43m.\u001b[39;49m\u001b[43mfit\u001b[49m\u001b[43m(\u001b[49m\u001b[43mX\u001b[49m\u001b[43m,\u001b[49m\u001b[43m \u001b[49m\u001b[43my\u001b[49m\u001b[43m,\u001b[49m\u001b[43m \u001b[49m\u001b[38;5;28;43;01mFalse\u001b[39;49;00m\u001b[43m)\u001b[49m\n\u001b[0;32m     48\u001b[0m     rec \u001b[38;5;241m=\u001b[39m recoveries_analysis(model_network_new\u001b[38;5;241m.\u001b[39mimportant_features()[\u001b[38;5;241m1\u001b[39m], features)\n\u001b[0;32m     49\u001b[0m     rec_network_new\u001b[38;5;241m.\u001b[39mappend(rec)\n",
      "File \u001b[1;32mc:\\Users\\maxvc\\OneDrive\\Bureau\\Memoir\\Final\\AnnLasso_final\\models\\AnnLassoRegression.py:40\u001b[0m, in \u001b[0;36mAnnLassoRegression.fit\u001b[1;34m(self, X, y, verbose)\u001b[0m\n\u001b[0;32m     37\u001b[0m     \u001b[38;5;28;01mif\u001b[39;00m verbose:\n\u001b[0;32m     38\u001b[0m         \u001b[38;5;28mprint\u001b[39m(\u001b[38;5;124mf\u001b[39m\u001b[38;5;124m\"\u001b[39m\u001b[38;5;124mLambda = \u001b[39m\u001b[38;5;132;01m{\u001b[39;00mlambi\u001b[38;5;241m.\u001b[39mitem()\u001b[38;5;132;01m:\u001b[39;00m\u001b[38;5;124m.4f\u001b[39m\u001b[38;5;132;01m}\u001b[39;00m\u001b[38;5;124m -- Nu = \u001b[39m\u001b[38;5;132;01m{\u001b[39;00mnu\u001b[38;5;132;01m}\u001b[39;00m\u001b[38;5;124m\"\u001b[39m \u001b[38;5;28;01mif\u001b[39;00m \u001b[38;5;28mself\u001b[39m\u001b[38;5;241m.\u001b[39mpath_type \u001b[38;5;241m==\u001b[39m \u001b[38;5;241m1\u001b[39m \u001b[38;5;28;01melse\u001b[39;00m \u001b[38;5;124mf\u001b[39m\u001b[38;5;124m\"\u001b[39m\u001b[38;5;124mLambda = \u001b[39m\u001b[38;5;132;01m{\u001b[39;00mlambi\u001b[38;5;241m.\u001b[39mitem()\u001b[38;5;132;01m:\u001b[39;00m\u001b[38;5;124m.4f\u001b[39m\u001b[38;5;132;01m}\u001b[39;00m\u001b[38;5;124m\"\u001b[39m)\n\u001b[1;32m---> 40\u001b[0m     \u001b[38;5;28;43mself\u001b[39;49m\u001b[38;5;241;43m.\u001b[39;49m\u001b[43mtrain_model\u001b[49m\u001b[43m(\u001b[49m\u001b[43mnu\u001b[49m\u001b[43m,\u001b[49m\u001b[43m \u001b[49m\u001b[43mX\u001b[49m\u001b[43m,\u001b[49m\u001b[43m \u001b[49m\u001b[43my\u001b[49m\u001b[43m,\u001b[49m\u001b[43m \u001b[49m\u001b[43mlambi\u001b[49m\u001b[43m,\u001b[49m\u001b[43m \u001b[49m\u001b[38;5;241;43m0.1\u001b[39;49m\u001b[43m,\u001b[49m\u001b[43m \u001b[49m\u001b[43mrel_err\u001b[49m\u001b[43m,\u001b[49m\u001b[43m \u001b[49m\u001b[43mverbose\u001b[49m\u001b[43m)\u001b[49m\n\u001b[0;32m     42\u001b[0m \u001b[38;5;28;01mif\u001b[39;00m verbose: \u001b[38;5;28mprint\u001b[39m(\u001b[38;5;124m\"\u001b[39m\u001b[38;5;124mMODEL FITTED !\u001b[39m\u001b[38;5;124m\"\u001b[39m)\n",
      "File \u001b[1;32mc:\\Users\\maxvc\\OneDrive\\Bureau\\Memoir\\Final\\AnnLasso_final\\models\\AnnLassoRegression.py:85\u001b[0m, in \u001b[0;36mAnnLassoRegression.train_model\u001b[1;34m(self, nu, X, y, lambda_, initial_lr, rel_err, verbose)\u001b[0m\n\u001b[0;32m     83\u001b[0m     epoch \u001b[38;5;241m+\u001b[39m\u001b[38;5;241m=\u001b[39m \u001b[38;5;241m1\u001b[39m\n\u001b[0;32m     84\u001b[0m     bare_loss\u001b[38;5;241m.\u001b[39mbackward()\n\u001b[1;32m---> 85\u001b[0m     \u001b[43moptimizer_l1\u001b[49m\u001b[38;5;241;43m.\u001b[39;49m\u001b[43mstep\u001b[49m\u001b[43m(\u001b[49m\u001b[43m)\u001b[49m\n\u001b[0;32m     86\u001b[0m     optimizer_l2\u001b[38;5;241m.\u001b[39mstep()\n\u001b[0;32m     88\u001b[0m \u001b[38;5;28;01mif\u001b[39;00m epoch \u001b[38;5;241m==\u001b[39m max_epochs \u001b[38;5;129;01mand\u001b[39;00m verbose: \u001b[38;5;28mprint\u001b[39m(\u001b[38;5;124m\"\u001b[39m\u001b[38;5;124mFISTA descent stopped: maximum iterations reached\u001b[39m\u001b[38;5;124m\"\u001b[39m)\n",
      "File \u001b[1;32mc:\\Users\\maxvc\\AppData\\Local\\Programs\\Python\\Python311\\Lib\\site-packages\\torch\\optim\\optimizer.py:373\u001b[0m, in \u001b[0;36mOptimizer.profile_hook_step.<locals>.wrapper\u001b[1;34m(*args, **kwargs)\u001b[0m\n\u001b[0;32m    368\u001b[0m         \u001b[38;5;28;01melse\u001b[39;00m:\n\u001b[0;32m    369\u001b[0m             \u001b[38;5;28;01mraise\u001b[39;00m \u001b[38;5;167;01mRuntimeError\u001b[39;00m(\n\u001b[0;32m    370\u001b[0m                 \u001b[38;5;124mf\u001b[39m\u001b[38;5;124m\"\u001b[39m\u001b[38;5;132;01m{\u001b[39;00mfunc\u001b[38;5;132;01m}\u001b[39;00m\u001b[38;5;124m must return None or a tuple of (new_args, new_kwargs), but got \u001b[39m\u001b[38;5;132;01m{\u001b[39;00mresult\u001b[38;5;132;01m}\u001b[39;00m\u001b[38;5;124m.\u001b[39m\u001b[38;5;124m\"\u001b[39m\n\u001b[0;32m    371\u001b[0m             )\n\u001b[1;32m--> 373\u001b[0m out \u001b[38;5;241m=\u001b[39m \u001b[43mfunc\u001b[49m\u001b[43m(\u001b[49m\u001b[38;5;241;43m*\u001b[39;49m\u001b[43margs\u001b[49m\u001b[43m,\u001b[49m\u001b[43m \u001b[49m\u001b[38;5;241;43m*\u001b[39;49m\u001b[38;5;241;43m*\u001b[39;49m\u001b[43mkwargs\u001b[49m\u001b[43m)\u001b[49m\n\u001b[0;32m    374\u001b[0m \u001b[38;5;28mself\u001b[39m\u001b[38;5;241m.\u001b[39m_optimizer_step_code()\n\u001b[0;32m    376\u001b[0m \u001b[38;5;66;03m# call optimizer step post hooks\u001b[39;00m\n",
      "File \u001b[1;32mc:\\Users\\maxvc\\AppData\\Local\\Programs\\Python\\Python311\\Lib\\site-packages\\torch\\utils\\_contextlib.py:115\u001b[0m, in \u001b[0;36mcontext_decorator.<locals>.decorate_context\u001b[1;34m(*args, **kwargs)\u001b[0m\n\u001b[0;32m    112\u001b[0m \u001b[38;5;129m@functools\u001b[39m\u001b[38;5;241m.\u001b[39mwraps(func)\n\u001b[0;32m    113\u001b[0m \u001b[38;5;28;01mdef\u001b[39;00m \u001b[38;5;21mdecorate_context\u001b[39m(\u001b[38;5;241m*\u001b[39margs, \u001b[38;5;241m*\u001b[39m\u001b[38;5;241m*\u001b[39mkwargs):\n\u001b[0;32m    114\u001b[0m     \u001b[38;5;28;01mwith\u001b[39;00m ctx_factory():\n\u001b[1;32m--> 115\u001b[0m         \u001b[38;5;28;01mreturn\u001b[39;00m \u001b[43mfunc\u001b[49m\u001b[43m(\u001b[49m\u001b[38;5;241;43m*\u001b[39;49m\u001b[43margs\u001b[49m\u001b[43m,\u001b[49m\u001b[43m \u001b[49m\u001b[38;5;241;43m*\u001b[39;49m\u001b[38;5;241;43m*\u001b[39;49m\u001b[43mkwargs\u001b[49m\u001b[43m)\u001b[49m\n",
      "File \u001b[1;32mc:\\Users\\maxvc\\OneDrive\\Bureau\\Memoir\\Final\\AnnLasso_final\\utils\\pytorch_classes.py:132\u001b[0m, in \u001b[0;36mFISTA.step\u001b[1;34m(self, closure)\u001b[0m\n\u001b[0;32m    128\u001b[0m     state[\u001b[38;5;124m'\u001b[39m\u001b[38;5;124mt_prev\u001b[39m\u001b[38;5;124m'\u001b[39m] \u001b[38;5;241m=\u001b[39m torch\u001b[38;5;241m.\u001b[39mtensor(\u001b[38;5;241m1.\u001b[39m, device\u001b[38;5;241m=\u001b[39mp\u001b[38;5;241m.\u001b[39mdevice)\n\u001b[0;32m    130\u001b[0m x_prev, y_prev, t_prev \u001b[38;5;241m=\u001b[39m state[\u001b[38;5;124m'\u001b[39m\u001b[38;5;124mx_prev\u001b[39m\u001b[38;5;124m'\u001b[39m], state[\u001b[38;5;124m'\u001b[39m\u001b[38;5;124my_prev\u001b[39m\u001b[38;5;124m'\u001b[39m], state[\u001b[38;5;124m'\u001b[39m\u001b[38;5;124mt_prev\u001b[39m\u001b[38;5;124m'\u001b[39m]\n\u001b[1;32m--> 132\u001b[0m x_next \u001b[38;5;241m=\u001b[39m \u001b[38;5;28;43mself\u001b[39;49m\u001b[38;5;241;43m.\u001b[39;49m\u001b[43mshrinkage_operator\u001b[49m\u001b[43m(\u001b[49m\u001b[43my_prev\u001b[49m\u001b[43m \u001b[49m\u001b[38;5;241;43m-\u001b[39;49m\u001b[43m \u001b[49m\u001b[38;5;28;43mself\u001b[39;49m\u001b[38;5;241;43m.\u001b[39;49m\u001b[43mlr\u001b[49m\u001b[43m \u001b[49m\u001b[38;5;241;43m*\u001b[39;49m\u001b[43m \u001b[49m\u001b[43mgrad\u001b[49m\u001b[43m,\u001b[49m\u001b[43m \u001b[49m\u001b[38;5;28;43mself\u001b[39;49m\u001b[38;5;241;43m.\u001b[39;49m\u001b[43mlr\u001b[49m\u001b[43m \u001b[49m\u001b[38;5;241;43m*\u001b[39;49m\u001b[43m \u001b[49m\u001b[38;5;28;43mself\u001b[39;49m\u001b[38;5;241;43m.\u001b[39;49m\u001b[43mlambda_\u001b[49m\u001b[43m)\u001b[49m\n\u001b[0;32m    133\u001b[0m t_next \u001b[38;5;241m=\u001b[39m (\u001b[38;5;241m1.\u001b[39m \u001b[38;5;241m+\u001b[39m torch\u001b[38;5;241m.\u001b[39msqrt(\u001b[38;5;241m1.\u001b[39m \u001b[38;5;241m+\u001b[39m \u001b[38;5;241m4.\u001b[39m \u001b[38;5;241m*\u001b[39m t_prev \u001b[38;5;241m*\u001b[39m\u001b[38;5;241m*\u001b[39m \u001b[38;5;241m2\u001b[39m)) \u001b[38;5;241m/\u001b[39m \u001b[38;5;241m2.\u001b[39m\n\u001b[0;32m    134\u001b[0m y_next \u001b[38;5;241m=\u001b[39m x_next \u001b[38;5;241m+\u001b[39m ((t_prev \u001b[38;5;241m-\u001b[39m \u001b[38;5;241m1\u001b[39m) \u001b[38;5;241m/\u001b[39m t_next) \u001b[38;5;241m*\u001b[39m (x_next \u001b[38;5;241m-\u001b[39m x_prev)\n",
      "File \u001b[1;32mc:\\Users\\maxvc\\OneDrive\\Bureau\\Memoir\\Final\\AnnLasso_final\\utils\\pytorch_classes.py:93\u001b[0m, in \u001b[0;36mFISTA.shrinkage_operator\u001b[1;34m(self, u, lambda_)\u001b[0m\n\u001b[0;32m     91\u001b[0m     \u001b[38;5;28;01mreturn\u001b[39;00m sol\n\u001b[0;32m     92\u001b[0m \u001b[38;5;28;01melse\u001b[39;00m:\n\u001b[1;32m---> 93\u001b[0m     \u001b[38;5;28;01mreturn\u001b[39;00m \u001b[43mu\u001b[49m\u001b[38;5;241;43m.\u001b[39;49m\u001b[43msign\u001b[49m\u001b[43m(\u001b[49m\u001b[43m)\u001b[49m \u001b[38;5;241m*\u001b[39m torch\u001b[38;5;241m.\u001b[39mclamp(u\u001b[38;5;241m.\u001b[39mabs() \u001b[38;5;241m-\u001b[39m lambda_, \u001b[38;5;28mmin\u001b[39m\u001b[38;5;241m=\u001b[39m\u001b[38;5;241m0.0\u001b[39m)\n",
      "\u001b[1;31mKeyboardInterrupt\u001b[0m: "
     ]
    }
   ],
   "source": [
    "s_values = np.arange(0, 31)\n",
    "n = 130\n",
    "X = pd.read_csv(f\"data/X-n{n}-p300.csv\")\n",
    "\n",
    "X = utils.X_to_tensor(X)\n",
    "\n",
    "lambda_qut = utils.lambda_qut_regression(X, utils.Custom_act_fun())\n",
    "\n",
    "results_linear_old, results_linear_new = [],[]\n",
    "results_network_old, results_network_new = [], []\n",
    "\n",
    "cont_lin_old, cont_lin_new, cont_net_old, cont_net_new = True, True, True, True\n",
    "\n",
    "for s in s_values:\n",
    "    rec_linear_old, rec_linear_new = [], []\n",
    "    rec_network_old, rec_network_new = [], []\n",
    "    m = 200\n",
    "    for _ in range(m):\n",
    "        y, features = utils.generate_linear_data(X, s)\n",
    "\n",
    "        if cont_lin_old:\n",
    "            model_linear_old= LinearModel(path_type=0, lambda_qut=lambda_qut)\n",
    "            model_linear_old.fit(X, y, False)\n",
    "            rec = recoveries_analysis(model_linear_old.important_features()[1], features)\n",
    "            rec_linear_old.append(rec)\n",
    "        else:\n",
    "            rec_linear_old.append(0.0)\n",
    "\n",
    "        if cont_net_old:\n",
    "            model_network_old = AnnLassoRegression(path_type=0, lambda_qut=lambda_qut)\n",
    "            model_network_old.fit(X, y, False)\n",
    "            rec = recoveries_analysis(model_network_old.important_features()[1], features)\n",
    "            rec_network_old.append(rec)\n",
    "        else:\n",
    "            rec_network_old.append(0.0)\n",
    "        \n",
    "        if cont_lin_new:\n",
    "            model_linear_new= LinearModel(path_type=1, lambda_qut=lambda_qut)\n",
    "            model_linear_new.fit(X, y, False)\n",
    "            rec = recoveries_analysis(model_linear_new.important_features()[1], features)\n",
    "            rec_linear_new.append(rec)\n",
    "        else:\n",
    "            rec_linear_new.append(0.0)\n",
    "\n",
    "        if cont_net_new:\n",
    "            model_network_new = AnnLassoRegression(path_type=1, lambda_qut=lambda_qut)\n",
    "            model_network_new.fit(X, y, False)\n",
    "            rec = recoveries_analysis(model_network_new.important_features()[1], features)\n",
    "            rec_network_new.append(rec)\n",
    "        else:\n",
    "            rec_network_new.append(0.0)\n",
    "\n",
    "\n",
    "    mean_linear_old = np.mean(rec_linear_old)\n",
    "    mean_linear_new = np.mean(rec_linear_new)\n",
    "    results_linear_old.append(mean_linear_old)\n",
    "    results_linear_new.append(mean_linear_new)\n",
    "\n",
    "    cont_lin_old = mean_linear_old!=0.0\n",
    "    cont_lin_new = mean_linear_new!=0.0\n",
    "\n",
    "    mean_network_old = np.mean(rec_network_old)\n",
    "    mean_network_new = np.mean(rec_network_new)\n",
    "    results_network_old.append(mean_network_old)\n",
    "    results_network_new.append(mean_network_new)\n",
    "\n",
    "    cont_net_old = mean_network_old!=0.0\n",
    "    cont_net_new = mean_network_new!=0.0\n",
    "    \n",
    "    print(s, mean_linear_old, mean_linear_new, mean_network_old, mean_network_new)"
   ]
  }
 ],
 "metadata": {
  "kernelspec": {
   "display_name": "Python 3 (ipykernel)",
   "language": "python",
   "name": "python3"
  },
  "language_info": {
   "codemirror_mode": {
    "name": "ipython",
    "version": 3
   },
   "file_extension": ".py",
   "mimetype": "text/x-python",
   "name": "python",
   "nbconvert_exporter": "python",
   "pygments_lexer": "ipython3",
   "version": "3.11.3"
  }
 },
 "nbformat": 4,
 "nbformat_minor": 4
}
